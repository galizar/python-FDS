{
 "cells": [
  {
   "cell_type": "code",
   "execution_count": 1,
   "metadata": {
    "colab": {
     "autoexec": {
      "startup": false,
      "wait_interval": 0
     },
     "base_uri": "https://localhost:8080/",
     "height": 211
    },
    "colab_type": "code",
    "executionInfo": {
     "elapsed": 2400,
     "status": "ok",
     "timestamp": 1529428044393,
     "user": {
      "displayName": "Luis Galicia",
      "photoUrl": "https://lh3.googleusercontent.com/a/default-user=s128",
      "userId": "116873116001297431960"
     },
     "user_tz": 240
    },
    "id": "AxY2AJ8Xv2k5",
    "outputId": "5c960839-0a39-434d-f387-fc92c0d4f62d"
   },
   "outputs": [],
   "source": [
    "import numpy as np\n",
    "import pandas as pd\n",
    "import matplotlib.pyplot as plt\n",
    "import seaborn as sns\n",
    "\n",
    "plt.style.use('ggplot')"
   ]
  },
  {
   "cell_type": "code",
   "execution_count": 2,
   "metadata": {
    "colab": {
     "autoexec": {
      "startup": false,
      "wait_interval": 0
     }
    },
    "colab_type": "code",
    "id": "TVQEQLQZuxZK"
   },
   "outputs": [],
   "source": [
    "austData = pd.read_csv('AustinCityLimits.csv')"
   ]
  },
  {
   "cell_type": "code",
   "execution_count": 3,
   "metadata": {
    "colab": {
     "autoexec": {
      "startup": false,
      "wait_interval": 0
     },
     "base_uri": "https://localhost:8080/",
     "height": 313
    },
    "colab_type": "code",
    "executionInfo": {
     "elapsed": 573,
     "status": "ok",
     "timestamp": 1529428047982,
     "user": {
      "displayName": "Luis Galicia",
      "photoUrl": "https://lh3.googleusercontent.com/a/default-user=s128",
      "userId": "116873116001297431960"
     },
     "user_tz": 240
    },
    "id": "GcsPT9LQu7lr",
    "outputId": "99770b1b-3f4f-4514-947c-6822e12dd5a0"
   },
   "outputs": [
    {
     "data": {
      "text/html": [
       "<div>\n",
       "<style scoped>\n",
       "    .dataframe tbody tr th:only-of-type {\n",
       "        vertical-align: middle;\n",
       "    }\n",
       "\n",
       "    .dataframe tbody tr th {\n",
       "        vertical-align: top;\n",
       "    }\n",
       "\n",
       "    .dataframe thead th {\n",
       "        text-align: right;\n",
       "    }\n",
       "</style>\n",
       "<table border=\"1\" class=\"dataframe\">\n",
       "  <thead>\n",
       "    <tr style=\"text-align: right;\">\n",
       "      <th></th>\n",
       "      <th>Artist</th>\n",
       "      <th>Year</th>\n",
       "      <th>Month</th>\n",
       "      <th>Season</th>\n",
       "      <th>Gender</th>\n",
       "      <th>Age</th>\n",
       "      <th>Age.Group</th>\n",
       "      <th>Grammy</th>\n",
       "      <th>Genre</th>\n",
       "      <th>BB.wk.top10</th>\n",
       "      <th>Twitter</th>\n",
       "      <th>Twitter.100k</th>\n",
       "      <th>Facebook</th>\n",
       "      <th>Facebook.100k</th>\n",
       "    </tr>\n",
       "  </thead>\n",
       "  <tbody>\n",
       "    <tr>\n",
       "      <th>0</th>\n",
       "      <td>Aimee Mann</td>\n",
       "      <td>2008</td>\n",
       "      <td>November</td>\n",
       "      <td>fall</td>\n",
       "      <td>F</td>\n",
       "      <td>52</td>\n",
       "      <td>Fifties or Older</td>\n",
       "      <td>Y</td>\n",
       "      <td>Singer-Songwriter</td>\n",
       "      <td>0.0</td>\n",
       "      <td>101870.0</td>\n",
       "      <td>1.0</td>\n",
       "      <td>113576</td>\n",
       "      <td>1</td>\n",
       "    </tr>\n",
       "    <tr>\n",
       "      <th>1</th>\n",
       "      <td>Alabama Shakes</td>\n",
       "      <td>2013</td>\n",
       "      <td>February</td>\n",
       "      <td>winter</td>\n",
       "      <td>F</td>\n",
       "      <td>24</td>\n",
       "      <td>Twenties</td>\n",
       "      <td>N</td>\n",
       "      <td>Rock/Folk/Indie</td>\n",
       "      <td>1.0</td>\n",
       "      <td>73313.0</td>\n",
       "      <td>0.0</td>\n",
       "      <td>298278</td>\n",
       "      <td>1</td>\n",
       "    </tr>\n",
       "    <tr>\n",
       "      <th>2</th>\n",
       "      <td>Allen Toussaint</td>\n",
       "      <td>2009</td>\n",
       "      <td>January</td>\n",
       "      <td>winter</td>\n",
       "      <td>M</td>\n",
       "      <td>75</td>\n",
       "      <td>Fifties or Older</td>\n",
       "      <td>N</td>\n",
       "      <td>Jazz/Blues</td>\n",
       "      <td>NaN</td>\n",
       "      <td>308634.0</td>\n",
       "      <td>1.0</td>\n",
       "      <td>10721</td>\n",
       "      <td>0</td>\n",
       "    </tr>\n",
       "    <tr>\n",
       "      <th>3</th>\n",
       "      <td>Andrew Bird</td>\n",
       "      <td>2009</td>\n",
       "      <td>October</td>\n",
       "      <td>fall</td>\n",
       "      <td>M</td>\n",
       "      <td>39</td>\n",
       "      <td>Thirties</td>\n",
       "      <td>N</td>\n",
       "      <td>Rock/Folk/Indie</td>\n",
       "      <td>1.0</td>\n",
       "      <td>56343.0</td>\n",
       "      <td>0.0</td>\n",
       "      <td>318313</td>\n",
       "      <td>1</td>\n",
       "    </tr>\n",
       "    <tr>\n",
       "      <th>4</th>\n",
       "      <td>Arcade Fire</td>\n",
       "      <td>2007</td>\n",
       "      <td>November</td>\n",
       "      <td>fall</td>\n",
       "      <td>F</td>\n",
       "      <td>33</td>\n",
       "      <td>Thirties</td>\n",
       "      <td>Y</td>\n",
       "      <td>Rock/Folk/Indie</td>\n",
       "      <td>1.0</td>\n",
       "      <td>404439.0</td>\n",
       "      <td>1.0</td>\n",
       "      <td>1711685</td>\n",
       "      <td>1</td>\n",
       "    </tr>\n",
       "  </tbody>\n",
       "</table>\n",
       "</div>"
      ],
      "text/plain": [
       "            Artist  Year     Month  Season Gender  Age         Age.Group  \\\n",
       "0       Aimee Mann  2008  November    fall      F   52  Fifties or Older   \n",
       "1   Alabama Shakes  2013  February  winter      F   24          Twenties   \n",
       "2  Allen Toussaint  2009   January  winter      M   75  Fifties or Older   \n",
       "3      Andrew Bird  2009   October    fall      M   39          Thirties   \n",
       "4      Arcade Fire  2007  November    fall      F   33          Thirties   \n",
       "\n",
       "  Grammy              Genre  BB.wk.top10  Twitter   Twitter.100k  Facebook  \\\n",
       "0      Y  Singer-Songwriter          0.0  101870.0           1.0    113576   \n",
       "1      N    Rock/Folk/Indie          1.0   73313.0           0.0    298278   \n",
       "2      N         Jazz/Blues          NaN  308634.0           1.0     10721   \n",
       "3      N    Rock/Folk/Indie          1.0   56343.0           0.0    318313   \n",
       "4      Y    Rock/Folk/Indie          1.0  404439.0           1.0   1711685   \n",
       "\n",
       "   Facebook.100k  \n",
       "0              1  \n",
       "1              1  \n",
       "2              0  \n",
       "3              1  \n",
       "4              1  "
      ]
     },
     "execution_count": 3,
     "metadata": {},
     "output_type": "execute_result"
    }
   ],
   "source": [
    "austData.head()"
   ]
  },
  {
   "cell_type": "code",
   "execution_count": 4,
   "metadata": {
    "colab": {
     "autoexec": {
      "startup": false,
      "wait_interval": 0
     },
     "base_uri": "https://localhost:8080/",
     "height": 34
    },
    "colab_type": "code",
    "executionInfo": {
     "elapsed": 759,
     "status": "ok",
     "timestamp": 1529428049869,
     "user": {
      "displayName": "Luis Galicia",
      "photoUrl": "https://lh3.googleusercontent.com/a/default-user=s128",
      "userId": "116873116001297431960"
     },
     "user_tz": 240
    },
    "id": "lfkEM2QovItA",
    "outputId": "c22a0cd8-a89a-455b-b6a9-6b1bf78564a7"
   },
   "outputs": [
    {
     "data": {
      "text/plain": [
       "(116, 14)"
      ]
     },
     "execution_count": 4,
     "metadata": {},
     "output_type": "execute_result"
    }
   ],
   "source": [
    "austData.shape"
   ]
  },
  {
   "cell_type": "markdown",
   "metadata": {
    "colab_type": "text",
    "id": "H60QaJ_oy7eb"
   },
   "source": [
    "### How many of the first 10 artists in the dataset were Grammy winners?"
   ]
  },
  {
   "cell_type": "code",
   "execution_count": 5,
   "metadata": {
    "colab": {
     "autoexec": {
      "startup": false,
      "wait_interval": 0
     },
     "base_uri": "https://localhost:8080/",
     "height": 34
    },
    "colab_type": "code",
    "executionInfo": {
     "elapsed": 530,
     "status": "ok",
     "timestamp": 1529428051130,
     "user": {
      "displayName": "Luis Galicia",
      "photoUrl": "https://lh3.googleusercontent.com/a/default-user=s128",
      "userId": "116873116001297431960"
     },
     "user_tz": 240
    },
    "id": "bZPEVSzkvKxL",
    "outputId": "06945ab9-637d-4980-a6b9-b262e5f1be18"
   },
   "outputs": [
    {
     "data": {
      "text/plain": [
       "4"
      ]
     },
     "execution_count": 5,
     "metadata": {},
     "output_type": "execute_result"
    }
   ],
   "source": [
    "(austData.head(10)['Grammy'] == 'Y').sum()"
   ]
  },
  {
   "cell_type": "markdown",
   "metadata": {
    "colab_type": "text",
    "id": "2Qfrba54zIEI"
   },
   "source": [
    "### What genre was played by the first female artist in the dataset who was over 60 years of age?"
   ]
  },
  {
   "cell_type": "code",
   "execution_count": 6,
   "metadata": {
    "colab": {
     "autoexec": {
      "startup": false,
      "wait_interval": 0
     },
     "base_uri": "https://localhost:8080/",
     "height": 52
    },
    "colab_type": "code",
    "executionInfo": {
     "elapsed": 825,
     "status": "ok",
     "timestamp": 1529428053134,
     "user": {
      "displayName": "Luis Galicia",
      "photoUrl": "https://lh3.googleusercontent.com/a/default-user=s128",
      "userId": "116873116001297431960"
     },
     "user_tz": 240
    },
    "id": "XpDhJRqowU4C",
    "outputId": "b3705836-9c64-46bb-ed1e-085612179709"
   },
   "outputs": [
    {
     "data": {
      "text/plain": [
       "9    Jazz/Blues\n",
       "Name: Genre, dtype: object"
      ]
     },
     "execution_count": 6,
     "metadata": {},
     "output_type": "execute_result"
    }
   ],
   "source": [
    "austData[(austData['Age'] > 60) & (austData['Gender'] == 'F')].head(1)['Genre']"
   ]
  },
  {
   "cell_type": "markdown",
   "metadata": {
    "colab_type": "text",
    "id": "wnKv-a-Nx0yu"
   },
   "source": [
    "## The Question:  For artists age 30 or older, do female artists play different kinds of music on Austin City Limits than male artists?\n",
    "\n",
    "### Making a subset dataset of singers 30 years old or older."
   ]
  },
  {
   "cell_type": "code",
   "execution_count": 7,
   "metadata": {
    "colab": {
     "autoexec": {
      "startup": false,
      "wait_interval": 0
     }
    },
    "colab_type": "code",
    "id": "5uC3czpDxW_A"
   },
   "outputs": [],
   "source": [
    "age_30_or_older = austData[austData['Age'] > 29]"
   ]
  },
  {
   "cell_type": "markdown",
   "metadata": {
    "colab_type": "text",
    "id": "Z0ZIhV2YwlnN"
   },
   "source": [
    "## Make a bar chart to better visualize how many male and female artists played in each genre."
   ]
  },
  {
   "cell_type": "code",
   "execution_count": 8,
   "metadata": {
    "colab": {
     "autoexec": {
      "startup": false,
      "wait_interval": 0
     },
     "base_uri": "https://localhost:8080/",
     "height": 143
    },
    "colab_type": "code",
    "executionInfo": {
     "elapsed": 866,
     "status": "ok",
     "timestamp": 1529428056236,
     "user": {
      "displayName": "Luis Galicia",
      "photoUrl": "https://lh3.googleusercontent.com/a/default-user=s128",
      "userId": "116873116001297431960"
     },
     "user_tz": 240
    },
    "id": "uqYGsyKuy3Bm",
    "outputId": "bdcaf32d-3bc1-40ac-e877-789d7f22ca72"
   },
   "outputs": [
    {
     "data": {
      "text/html": [
       "<div>\n",
       "<style scoped>\n",
       "    .dataframe tbody tr th:only-of-type {\n",
       "        vertical-align: middle;\n",
       "    }\n",
       "\n",
       "    .dataframe tbody tr th {\n",
       "        vertical-align: top;\n",
       "    }\n",
       "\n",
       "    .dataframe thead th {\n",
       "        text-align: right;\n",
       "    }\n",
       "</style>\n",
       "<table border=\"1\" class=\"dataframe\">\n",
       "  <thead>\n",
       "    <tr style=\"text-align: right;\">\n",
       "      <th>Genre</th>\n",
       "      <th>Country</th>\n",
       "      <th>Jazz/Blues</th>\n",
       "      <th>Rock/Folk/Indie</th>\n",
       "      <th>Singer-Songwriter</th>\n",
       "    </tr>\n",
       "    <tr>\n",
       "      <th>Gender</th>\n",
       "      <th></th>\n",
       "      <th></th>\n",
       "      <th></th>\n",
       "      <th></th>\n",
       "    </tr>\n",
       "  </thead>\n",
       "  <tbody>\n",
       "    <tr>\n",
       "      <th>F</th>\n",
       "      <td>6</td>\n",
       "      <td>4</td>\n",
       "      <td>8</td>\n",
       "      <td>7</td>\n",
       "    </tr>\n",
       "    <tr>\n",
       "      <th>M</th>\n",
       "      <td>11</td>\n",
       "      <td>7</td>\n",
       "      <td>53</td>\n",
       "      <td>6</td>\n",
       "    </tr>\n",
       "  </tbody>\n",
       "</table>\n",
       "</div>"
      ],
      "text/plain": [
       "Genre   Country  Jazz/Blues  Rock/Folk/Indie  Singer-Songwriter\n",
       "Gender                                                         \n",
       "F             6           4                8                  7\n",
       "M            11           7               53                  6"
      ]
     },
     "execution_count": 8,
     "metadata": {},
     "output_type": "execute_result"
    }
   ],
   "source": [
    "genreTable = pd.crosstab(age_30_or_older['Gender'],age_30_or_older['Genre'])\n",
    "genreTable"
   ]
  },
  {
   "cell_type": "markdown",
   "metadata": {
    "colab_type": "text",
    "id": "-hOCEGJRweHO"
   },
   "source": [
    "###  The fastest way."
   ]
  },
  {
   "cell_type": "code",
   "execution_count": 9,
   "metadata": {
    "colab": {
     "autoexec": {
      "startup": false,
      "wait_interval": 0
     },
     "base_uri": "https://localhost:8080/",
     "height": 376
    },
    "colab_type": "code",
    "executionInfo": {
     "elapsed": 724,
     "status": "ok",
     "timestamp": 1529428057610,
     "user": {
      "displayName": "Luis Galicia",
      "photoUrl": "https://lh3.googleusercontent.com/a/default-user=s128",
      "userId": "116873116001297431960"
     },
     "user_tz": 240
    },
    "id": "m6R4ma4W4-iF",
    "outputId": "dc2f08ec-9361-44c0-d675-a55533b939a1"
   },
   "outputs": [
    {
     "data": {
      "text/plain": [
       "<Axes: xlabel='Gender'>"
      ]
     },
     "execution_count": 9,
     "metadata": {},
     "output_type": "execute_result"
    },
    {
     "data": {
      "image/png": "[encoded data removed]",
      "text/plain": [
       "<Figure size 640x480 with 1 Axes>"
      ]
     },
     "metadata": {},
     "output_type": "display_data"
    }
   ],
   "source": [
    "genreTable.plot(kind='bar')"
   ]
  },
  {
   "cell_type": "markdown",
   "metadata": {
    "colab_type": "text",
    "id": "xL2loma4wx13"
   },
   "source": [
    "### The count of singers by gender for each music genre."
   ]
  },
  {
   "cell_type": "code",
   "execution_count": 10,
   "metadata": {
    "colab": {
     "autoexec": {
      "startup": false,
      "wait_interval": 0
     }
    },
    "colab_type": "code",
    "id": "4oFwMo377AVX"
   },
   "outputs": [],
   "source": [
    "Fcount = {c: genreTable[c]['F'] for c in genreTable.columns}\n",
    "Mcount = {c: genreTable[c]['M'] for c in genreTable.columns}"
   ]
  },
  {
   "cell_type": "markdown",
   "metadata": {
    "colab_type": "text",
    "id": "FgX7Byzlw-l5"
   },
   "source": [
    "###  The long way"
   ]
  },
  {
   "cell_type": "code",
   "execution_count": 11,
   "metadata": {
    "colab": {
     "autoexec": {
      "startup": false,
      "wait_interval": 0
     },
     "base_uri": "https://localhost:8080/",
     "height": 352
    },
    "colab_type": "code",
    "executionInfo": {
     "elapsed": 890,
     "status": "ok",
     "timestamp": 1529428061067,
     "user": {
      "displayName": "Luis Galicia",
      "photoUrl": "https://lh3.googleusercontent.com/a/default-user=s128",
      "userId": "116873116001297431960"
     },
     "user_tz": 240
    },
    "id": "8MnLhLKZBT2A",
    "outputId": "a105cd9b-f305-4713-e4d5-2c68b96ff4b9"
   },
   "outputs": [
    {
     "data": {
      "text/plain": [
       "Text(0.5, 1.0, 'Male')"
      ]
     },
     "execution_count": 11,
     "metadata": {},
     "output_type": "execute_result"
    },
    {
     "data": {
      "image/png": "[encoded data removed]",
      "text/plain": [
       "<Figure size 1000x500 with 2 Axes>"
      ]
     },
     "metadata": {},
     "output_type": "display_data"
    }
   ],
   "source": [
    "fig, ax = plt.subplots(1, 2, figsize=(10,5), sharey=True)\n",
    "\n",
    "ax[0].bar(list(Fcount.keys()), list(Fcount.values()))\n",
    "ax[1].bar(list(Mcount.keys()), list(Mcount.values()))\n",
    "\n",
    "ax[0].set_title('Female')\n",
    "ax[1].set_title('Male')"
   ]
  },
  {
   "cell_type": "markdown",
   "metadata": {
    "colab_type": "text",
    "id": "5eCS1ifVxHJo"
   },
   "source": [
    "### Arranging the DataFrame for plotting more easily."
   ]
  },
  {
   "cell_type": "code",
   "execution_count": 12,
   "metadata": {
    "colab": {
     "autoexec": {
      "startup": false,
      "wait_interval": 0
     },
     "base_uri": "https://localhost:8080/",
     "height": 300
    },
    "colab_type": "code",
    "executionInfo": {
     "elapsed": 701,
     "status": "ok",
     "timestamp": 1529428062341,
     "user": {
      "displayName": "Luis Galicia",
      "photoUrl": "https://lh3.googleusercontent.com/a/default-user=s128",
      "userId": "116873116001297431960"
     },
     "user_tz": 240
    },
    "id": "5MULJsSSELHf",
    "outputId": "c9394afb-a50a-4aac-b62e-f2a3e7076a84"
   },
   "outputs": [
    {
     "data": {
      "text/html": [
       "<div>\n",
       "<style scoped>\n",
       "    .dataframe tbody tr th:only-of-type {\n",
       "        vertical-align: middle;\n",
       "    }\n",
       "\n",
       "    .dataframe tbody tr th {\n",
       "        vertical-align: top;\n",
       "    }\n",
       "\n",
       "    .dataframe thead th {\n",
       "        text-align: right;\n",
       "    }\n",
       "</style>\n",
       "<table border=\"1\" class=\"dataframe\">\n",
       "  <thead>\n",
       "    <tr style=\"text-align: right;\">\n",
       "      <th></th>\n",
       "      <th>Gender</th>\n",
       "      <th>Genre</th>\n",
       "      <th>Counts</th>\n",
       "    </tr>\n",
       "  </thead>\n",
       "  <tbody>\n",
       "    <tr>\n",
       "      <th>0</th>\n",
       "      <td>F</td>\n",
       "      <td>Country</td>\n",
       "      <td>6</td>\n",
       "    </tr>\n",
       "    <tr>\n",
       "      <th>1</th>\n",
       "      <td>F</td>\n",
       "      <td>Jazz/Blues</td>\n",
       "      <td>4</td>\n",
       "    </tr>\n",
       "    <tr>\n",
       "      <th>2</th>\n",
       "      <td>F</td>\n",
       "      <td>Rock/Folk/Indie</td>\n",
       "      <td>8</td>\n",
       "    </tr>\n",
       "    <tr>\n",
       "      <th>3</th>\n",
       "      <td>F</td>\n",
       "      <td>Singer-Songwriter</td>\n",
       "      <td>7</td>\n",
       "    </tr>\n",
       "    <tr>\n",
       "      <th>4</th>\n",
       "      <td>M</td>\n",
       "      <td>Country</td>\n",
       "      <td>11</td>\n",
       "    </tr>\n",
       "    <tr>\n",
       "      <th>5</th>\n",
       "      <td>M</td>\n",
       "      <td>Jazz/Blues</td>\n",
       "      <td>7</td>\n",
       "    </tr>\n",
       "    <tr>\n",
       "      <th>6</th>\n",
       "      <td>M</td>\n",
       "      <td>Rock/Folk/Indie</td>\n",
       "      <td>53</td>\n",
       "    </tr>\n",
       "    <tr>\n",
       "      <th>7</th>\n",
       "      <td>M</td>\n",
       "      <td>Singer-Songwriter</td>\n",
       "      <td>6</td>\n",
       "    </tr>\n",
       "  </tbody>\n",
       "</table>\n",
       "</div>"
      ],
      "text/plain": [
       "  Gender              Genre  Counts\n",
       "0      F            Country       6\n",
       "1      F         Jazz/Blues       4\n",
       "2      F    Rock/Folk/Indie       8\n",
       "3      F  Singer-Songwriter       7\n",
       "4      M            Country      11\n",
       "5      M         Jazz/Blues       7\n",
       "6      M    Rock/Folk/Indie      53\n",
       "7      M  Singer-Songwriter       6"
      ]
     },
     "execution_count": 12,
     "metadata": {},
     "output_type": "execute_result"
    }
   ],
   "source": [
    "genreTable_stacked = genreTable.stack().reset_index().rename(columns={0:'Counts'})\n",
    "genreTable_stacked"
   ]
  },
  {
   "cell_type": "markdown",
   "metadata": {
    "colab_type": "text",
    "id": "dl0aandBx2Ma"
   },
   "source": [
    "### The best way IMO."
   ]
  },
  {
   "cell_type": "code",
   "execution_count": 13,
   "metadata": {
    "colab": {
     "autoexec": {
      "startup": false,
      "wait_interval": 0
     },
     "base_uri": "https://localhost:8080/",
     "height": 433
    },
    "colab_type": "code",
    "executionInfo": {
     "elapsed": 691,
     "status": "ok",
     "timestamp": 1529428064010,
     "user": {
      "displayName": "Luis Galicia",
      "photoUrl": "https://lh3.googleusercontent.com/a/default-user=s128",
      "userId": "116873116001297431960"
     },
     "user_tz": 240
    },
    "id": "s_WygUfzNXgQ",
    "outputId": "1d1360b0-b95e-4177-9583-0aa7207a879d"
   },
   "outputs": [
    {
     "data": {
      "text/plain": [
       "<Axes: xlabel='Genre', ylabel='Counts'>"
      ]
     },
     "execution_count": 13,
     "metadata": {},
     "output_type": "execute_result"
    },
    {
     "data": {
      "image/png": "[encoded data removed]",
      "text/plain": [
       "<Figure size 640x480 with 1 Axes>"
      ]
     },
     "metadata": {},
     "output_type": "display_data"
    }
   ],
   "source": [
    "sns.barplot(x='Genre', y='Counts', hue='Gender', data=genreTable_stacked)"
   ]
  },
  {
   "cell_type": "markdown",
   "metadata": {
    "colab_type": "text",
    "id": "R-bwQseoyU-v"
   },
   "source": [
    "### Probability of each music genre being played."
   ]
  },
  {
   "cell_type": "code",
   "execution_count": 14,
   "metadata": {
    "colab": {
     "autoexec": {
      "startup": false,
      "wait_interval": 0
     },
     "base_uri": "https://localhost:8080/",
     "height": 121
    },
    "colab_type": "code",
    "executionInfo": {
     "elapsed": 1227,
     "status": "ok",
     "timestamp": 1529428066096,
     "user": {
      "displayName": "Luis Galicia",
      "photoUrl": "https://lh3.googleusercontent.com/a/default-user=s128",
      "userId": "116873116001297431960"
     },
     "user_tz": 240
    },
    "id": "J8TSp7gDyac-",
    "outputId": "b4727fff-3b4f-4e92-f604-7b781aac0418"
   },
   "outputs": [
    {
     "data": {
      "text/plain": [
       "Genre\n",
       "Country              0.166667\n",
       "Jazz/Blues           0.107843\n",
       "Rock/Folk/Indie      0.598039\n",
       "Singer-Songwriter    0.127451\n",
       "dtype: float64"
      ]
     },
     "execution_count": 14,
     "metadata": {},
     "output_type": "execute_result"
    }
   ],
   "source": [
    "genreCount = genreTable.sum(0) # count of the ocurrence of each gender\n",
    "genreProb = genreCount / genreCount.sum()\n",
    "genreProb"
   ]
  },
  {
   "cell_type": "markdown",
   "metadata": {
    "colab_type": "text",
    "id": "OMWNQcyNFa-k"
   },
   "source": [
    "### Probability of each music genre being played given the singer's gender."
   ]
  },
  {
   "cell_type": "markdown",
   "metadata": {
    "colab_type": "text",
    "id": "cW6oflIzRoVy"
   },
   "source": [
    "Remember that the genreTable variable contains the contigency table/crosstab of the singers gender and the music genre."
   ]
  },
  {
   "cell_type": "code",
   "execution_count": 15,
   "metadata": {
    "colab": {
     "autoexec": {
      "startup": false,
      "wait_interval": 0
     },
     "base_uri": "https://localhost:8080/",
     "height": 121
    },
    "colab_type": "code",
    "executionInfo": {
     "elapsed": 708,
     "status": "ok",
     "timestamp": 1529428067278,
     "user": {
      "displayName": "Luis Galicia",
      "photoUrl": "https://lh3.googleusercontent.com/a/default-user=s128",
      "userId": "116873116001297431960"
     },
     "user_tz": 240
    },
    "id": "682nsZF3FkGB",
    "outputId": "45c34837-c7c2-40f5-9856-38eeade368fb"
   },
   "outputs": [
    {
     "data": {
      "text/plain": [
       "Genre\n",
       "Country              0.24\n",
       "Jazz/Blues           0.16\n",
       "Rock/Folk/Indie      0.32\n",
       "Singer-Songwriter    0.28\n",
       "Name: F, dtype: float64"
      ]
     },
     "execution_count": 15,
     "metadata": {},
     "output_type": "execute_result"
    }
   ],
   "source": [
    "# Female\n",
    "genreProbF = genreTable.loc['F'] / genreTable.loc['F'].sum()\n",
    "genreProbF"
   ]
  },
  {
   "cell_type": "code",
   "execution_count": 16,
   "metadata": {
    "colab": {
     "autoexec": {
      "startup": false,
      "wait_interval": 0
     },
     "base_uri": "https://localhost:8080/",
     "height": 121
    },
    "colab_type": "code",
    "executionInfo": {
     "elapsed": 532,
     "status": "ok",
     "timestamp": 1529428068347,
     "user": {
      "displayName": "Luis Galicia",
      "photoUrl": "https://lh3.googleusercontent.com/a/default-user=s128",
      "userId": "116873116001297431960"
     },
     "user_tz": 240
    },
    "id": "OTFb55aZFsMP",
    "outputId": "4b30de1d-a56e-4b2e-a309-9f97e5c144dd"
   },
   "outputs": [
    {
     "data": {
      "text/plain": [
       "Genre\n",
       "Country              0.142857\n",
       "Jazz/Blues           0.090909\n",
       "Rock/Folk/Indie      0.688312\n",
       "Singer-Songwriter    0.077922\n",
       "Name: M, dtype: float64"
      ]
     },
     "execution_count": 16,
     "metadata": {},
     "output_type": "execute_result"
    }
   ],
   "source": [
    "# Male\n",
    "genreProbM = genreTable.loc['M'] / genreTable.loc['M'].sum()\n",
    "genreProbM"
   ]
  },
  {
   "cell_type": "code",
   "execution_count": 17,
   "metadata": {
    "colab": {
     "autoexec": {
      "startup": false,
      "wait_interval": 0
     },
     "base_uri": "https://localhost:8080/",
     "height": 34
    },
    "colab_type": "code",
    "executionInfo": {
     "elapsed": 1280,
     "status": "ok",
     "timestamp": 1529428070306,
     "user": {
      "displayName": "Luis Galicia",
      "photoUrl": "https://lh3.googleusercontent.com/a/default-user=s128",
      "userId": "116873116001297431960"
     },
     "user_tz": 240
    },
    "id": "j5Bp8xbQNTp1",
    "outputId": "2bd6e999-5b1d-40d2-af34-e910c362cde8"
   },
   "outputs": [
    {
     "data": {
      "text/plain": [
       "77"
      ]
     },
     "execution_count": 17,
     "metadata": {},
     "output_type": "execute_result"
    }
   ],
   "source": [
    "# How many male artists are in the 30+ year old artist subset of the Austin City Limits data\n",
    "genreTable.loc['M'].sum()"
   ]
  },
  {
   "cell_type": "code",
   "execution_count": 18,
   "metadata": {
    "colab": {
     "autoexec": {
      "startup": false,
      "wait_interval": 0
     },
     "base_uri": "https://localhost:8080/",
     "height": 34
    },
    "colab_type": "code",
    "executionInfo": {
     "elapsed": 807,
     "status": "ok",
     "timestamp": 1529428071543,
     "user": {
      "displayName": "Luis Galicia",
      "photoUrl": "https://lh3.googleusercontent.com/a/default-user=s128",
      "userId": "116873116001297431960"
     },
     "user_tz": 240
    },
    "id": "XT8EOe0zNR1Y",
    "outputId": "dc37df76-19f9-4d89-c91c-4da56388c7b2"
   },
   "outputs": [
    {
     "data": {
      "text/plain": [
       "25"
      ]
     },
     "execution_count": 18,
     "metadata": {},
     "output_type": "execute_result"
    }
   ],
   "source": [
    "# How Many females?\n",
    "genreTable.loc['F'].sum()"
   ]
  },
  {
   "cell_type": "markdown",
   "metadata": {
    "colab_type": "text",
    "id": "0vdK0G9GuyhP"
   },
   "source": [
    "## The Lab"
   ]
  },
  {
   "cell_type": "markdown",
   "metadata": {
    "colab_type": "text",
    "id": "mrl3X7LMxAqx"
   },
   "source": [
    "### Among male artists is there an association between winning a grammy award and the genre of music that the artist plays?"
   ]
  },
  {
   "cell_type": "code",
   "execution_count": 19,
   "metadata": {
    "colab": {
     "autoexec": {
      "startup": false,
      "wait_interval": 0
     }
    },
    "colab_type": "code",
    "id": "oUfQO7xMu0Lp"
   },
   "outputs": [],
   "source": [
    "maleArtists = austData[austData['Gender'] == 'M']"
   ]
  },
  {
   "cell_type": "code",
   "execution_count": 20,
   "metadata": {
    "colab": {
     "autoexec": {
      "startup": false,
      "wait_interval": 0
     }
    },
    "colab_type": "code",
    "id": "bn4QcC7wyIDh"
   },
   "outputs": [],
   "source": [
    "grammyGenreTab = pd.crosstab(maleArtists['Grammy'], maleArtists['Genre'])"
   ]
  },
  {
   "cell_type": "code",
   "execution_count": 21,
   "metadata": {
    "colab": {
     "autoexec": {
      "startup": false,
      "wait_interval": 0
     },
     "base_uri": "https://localhost:8080/",
     "height": 143
    },
    "colab_type": "code",
    "executionInfo": {
     "elapsed": 448,
     "status": "ok",
     "timestamp": 1529428074552,
     "user": {
      "displayName": "Luis Galicia",
      "photoUrl": "https://lh3.googleusercontent.com/a/default-user=s128",
      "userId": "116873116001297431960"
     },
     "user_tz": 240
    },
    "id": "gbKYz2ksyjoG",
    "outputId": "2324c6f4-de76-4189-bb30-c22ba2c54ebd"
   },
   "outputs": [
    {
     "data": {
      "text/html": [
       "<div>\n",
       "<style scoped>\n",
       "    .dataframe tbody tr th:only-of-type {\n",
       "        vertical-align: middle;\n",
       "    }\n",
       "\n",
       "    .dataframe tbody tr th {\n",
       "        vertical-align: top;\n",
       "    }\n",
       "\n",
       "    .dataframe thead th {\n",
       "        text-align: right;\n",
       "    }\n",
       "</style>\n",
       "<table border=\"1\" class=\"dataframe\">\n",
       "  <thead>\n",
       "    <tr style=\"text-align: right;\">\n",
       "      <th>Genre</th>\n",
       "      <th>Country</th>\n",
       "      <th>Jazz/Blues</th>\n",
       "      <th>Rock/Folk/Indie</th>\n",
       "      <th>Singer-Songwriter</th>\n",
       "    </tr>\n",
       "    <tr>\n",
       "      <th>Grammy</th>\n",
       "      <th></th>\n",
       "      <th></th>\n",
       "      <th></th>\n",
       "      <th></th>\n",
       "    </tr>\n",
       "  </thead>\n",
       "  <tbody>\n",
       "    <tr>\n",
       "      <th>N</th>\n",
       "      <td>4</td>\n",
       "      <td>3</td>\n",
       "      <td>34</td>\n",
       "      <td>5</td>\n",
       "    </tr>\n",
       "    <tr>\n",
       "      <th>Y</th>\n",
       "      <td>7</td>\n",
       "      <td>4</td>\n",
       "      <td>22</td>\n",
       "      <td>2</td>\n",
       "    </tr>\n",
       "  </tbody>\n",
       "</table>\n",
       "</div>"
      ],
      "text/plain": [
       "Genre   Country  Jazz/Blues  Rock/Folk/Indie  Singer-Songwriter\n",
       "Grammy                                                         \n",
       "N             4           3               34                  5\n",
       "Y             7           4               22                  2"
      ]
     },
     "execution_count": 21,
     "metadata": {},
     "output_type": "execute_result"
    }
   ],
   "source": [
    "grammyGenreTab"
   ]
  },
  {
   "cell_type": "markdown",
   "metadata": {
    "colab_type": "text",
    "id": "EnQa5e5Sy5yG"
   },
   "source": [
    "### Probability of a random male artist of winning a grammy."
   ]
  },
  {
   "cell_type": "code",
   "execution_count": 22,
   "metadata": {
    "colab": {
     "autoexec": {
      "startup": false,
      "wait_interval": 0
     },
     "base_uri": "https://localhost:8080/",
     "height": 34
    },
    "colab_type": "code",
    "executionInfo": {
     "elapsed": 461,
     "status": "ok",
     "timestamp": 1529428075386,
     "user": {
      "displayName": "Luis Galicia",
      "photoUrl": "https://lh3.googleusercontent.com/a/default-user=s128",
      "userId": "116873116001297431960"
     },
     "user_tz": 240
    },
    "id": "NeV-EXXyy4HL",
    "outputId": "6c9f8270-b458-49d3-a10b-83eb96aaebe6"
   },
   "outputs": [
    {
     "data": {
      "text/plain": [
       "0.43209876543209874"
      ]
     },
     "execution_count": 22,
     "metadata": {},
     "output_type": "execute_result"
    }
   ],
   "source": [
    "grammyMprob = grammyGenreTab.loc['Y'].sum() / maleArtists.shape[0]\n",
    "grammyMprob"
   ]
  },
  {
   "cell_type": "code",
   "execution_count": 23,
   "metadata": {
    "colab": {
     "autoexec": {
      "startup": false,
      "wait_interval": 0
     }
    },
    "colab_type": "code",
    "id": "txDW1eTSzbKV"
   },
   "outputs": [],
   "source": [
    "probGrammyByGenre = grammyGenreTab.loc['Y'] / grammyGenreTab.sum(0)"
   ]
  },
  {
   "cell_type": "code",
   "execution_count": 24,
   "metadata": {
    "colab": {
     "autoexec": {
      "startup": false,
      "wait_interval": 0
     },
     "base_uri": "https://localhost:8080/",
     "height": 121
    },
    "colab_type": "code",
    "executionInfo": {
     "elapsed": 572,
     "status": "ok",
     "timestamp": 1529428077163,
     "user": {
      "displayName": "Luis Galicia",
      "photoUrl": "https://lh3.googleusercontent.com/a/default-user=s128",
      "userId": "116873116001297431960"
     },
     "user_tz": 240
    },
    "id": "4B6eNOio1Yvr",
    "outputId": "9fac9d5b-508c-4bca-8fdd-cd6f3adef795"
   },
   "outputs": [
    {
     "data": {
      "text/plain": [
       "Genre\n",
       "Country              0.636364\n",
       "Jazz/Blues           0.571429\n",
       "Rock/Folk/Indie      0.392857\n",
       "Singer-Songwriter    0.285714\n",
       "dtype: float64"
      ]
     },
     "execution_count": 24,
     "metadata": {},
     "output_type": "execute_result"
    }
   ],
   "source": [
    "probGrammyByGenre"
   ]
  },
  {
   "cell_type": "markdown",
   "metadata": {
    "colab_type": "text",
    "id": "I1O8PWXu59Q-"
   },
   "source": [
    "### How many artists in the dataset have 100.000 or more likes on Facebook?"
   ]
  },
  {
   "cell_type": "code",
   "execution_count": 25,
   "metadata": {
    "colab": {
     "autoexec": {
      "startup": false,
      "wait_interval": 0
     }
    },
    "colab_type": "code",
    "id": "gEswXXdD6CXi"
   },
   "outputs": [],
   "source": [
    "popularArtists = austData[austData['Facebook.100k'] == 1]"
   ]
  },
  {
   "cell_type": "code",
   "execution_count": 26,
   "metadata": {
    "colab": {
     "autoexec": {
      "startup": false,
      "wait_interval": 0
     },
     "base_uri": "https://localhost:8080/",
     "height": 3106
    },
    "colab_type": "code",
    "executionInfo": {
     "elapsed": 485,
     "status": "ok",
     "timestamp": 1529428078710,
     "user": {
      "displayName": "Luis Galicia",
      "photoUrl": "https://lh3.googleusercontent.com/a/default-user=s128",
      "userId": "116873116001297431960"
     },
     "user_tz": 240
    },
    "id": "69WUDng798Yo",
    "outputId": "7337a456-bf32-44c6-caa1-4b0d6d5b206c"
   },
   "outputs": [
    {
     "data": {
      "text/html": [
       "<div>\n",
       "<style scoped>\n",
       "    .dataframe tbody tr th:only-of-type {\n",
       "        vertical-align: middle;\n",
       "    }\n",
       "\n",
       "    .dataframe tbody tr th {\n",
       "        vertical-align: top;\n",
       "    }\n",
       "\n",
       "    .dataframe thead th {\n",
       "        text-align: right;\n",
       "    }\n",
       "</style>\n",
       "<table border=\"1\" class=\"dataframe\">\n",
       "  <thead>\n",
       "    <tr style=\"text-align: right;\">\n",
       "      <th></th>\n",
       "      <th>Artist</th>\n",
       "      <th>Year</th>\n",
       "      <th>Month</th>\n",
       "      <th>Season</th>\n",
       "      <th>Gender</th>\n",
       "      <th>Age</th>\n",
       "      <th>Age.Group</th>\n",
       "      <th>Grammy</th>\n",
       "      <th>Genre</th>\n",
       "      <th>BB.wk.top10</th>\n",
       "      <th>Twitter</th>\n",
       "      <th>Twitter.100k</th>\n",
       "      <th>Facebook</th>\n",
       "      <th>Facebook.100k</th>\n",
       "    </tr>\n",
       "  </thead>\n",
       "  <tbody>\n",
       "    <tr>\n",
       "      <th>0</th>\n",
       "      <td>Aimee Mann</td>\n",
       "      <td>2008</td>\n",
       "      <td>November</td>\n",
       "      <td>fall</td>\n",
       "      <td>F</td>\n",
       "      <td>52</td>\n",
       "      <td>Fifties or Older</td>\n",
       "      <td>Y</td>\n",
       "      <td>Singer-Songwriter</td>\n",
       "      <td>0.0</td>\n",
       "      <td>101870.0</td>\n",
       "      <td>1.0</td>\n",
       "      <td>113576</td>\n",
       "      <td>1</td>\n",
       "    </tr>\n",
       "    <tr>\n",
       "      <th>1</th>\n",
       "      <td>Alabama Shakes</td>\n",
       "      <td>2013</td>\n",
       "      <td>February</td>\n",
       "      <td>winter</td>\n",
       "      <td>F</td>\n",
       "      <td>24</td>\n",
       "      <td>Twenties</td>\n",
       "      <td>N</td>\n",
       "      <td>Rock/Folk/Indie</td>\n",
       "      <td>1.0</td>\n",
       "      <td>73313.0</td>\n",
       "      <td>0.0</td>\n",
       "      <td>298278</td>\n",
       "      <td>1</td>\n",
       "    </tr>\n",
       "    <tr>\n",
       "      <th>3</th>\n",
       "      <td>Andrew Bird</td>\n",
       "      <td>2009</td>\n",
       "      <td>October</td>\n",
       "      <td>fall</td>\n",
       "      <td>M</td>\n",
       "      <td>39</td>\n",
       "      <td>Thirties</td>\n",
       "      <td>N</td>\n",
       "      <td>Rock/Folk/Indie</td>\n",
       "      <td>1.0</td>\n",
       "      <td>56343.0</td>\n",
       "      <td>0.0</td>\n",
       "      <td>318313</td>\n",
       "      <td>1</td>\n",
       "    </tr>\n",
       "    <tr>\n",
       "      <th>4</th>\n",
       "      <td>Arcade Fire</td>\n",
       "      <td>2007</td>\n",
       "      <td>November</td>\n",
       "      <td>fall</td>\n",
       "      <td>F</td>\n",
       "      <td>33</td>\n",
       "      <td>Thirties</td>\n",
       "      <td>Y</td>\n",
       "      <td>Rock/Folk/Indie</td>\n",
       "      <td>1.0</td>\n",
       "      <td>404439.0</td>\n",
       "      <td>1.0</td>\n",
       "      <td>1711685</td>\n",
       "      <td>1</td>\n",
       "    </tr>\n",
       "    <tr>\n",
       "      <th>6</th>\n",
       "      <td>Avett Brothers</td>\n",
       "      <td>2010</td>\n",
       "      <td>January</td>\n",
       "      <td>winter</td>\n",
       "      <td>M</td>\n",
       "      <td>37</td>\n",
       "      <td>Thirties</td>\n",
       "      <td>N</td>\n",
       "      <td>Rock/Folk/Indie</td>\n",
       "      <td>1.0</td>\n",
       "      <td>125758.0</td>\n",
       "      <td>1.0</td>\n",
       "      <td>563505</td>\n",
       "      <td>1</td>\n",
       "    </tr>\n",
       "    <tr>\n",
       "      <th>...</th>\n",
       "      <td>...</td>\n",
       "      <td>...</td>\n",
       "      <td>...</td>\n",
       "      <td>...</td>\n",
       "      <td>...</td>\n",
       "      <td>...</td>\n",
       "      <td>...</td>\n",
       "      <td>...</td>\n",
       "      <td>...</td>\n",
       "      <td>...</td>\n",
       "      <td>...</td>\n",
       "      <td>...</td>\n",
       "      <td>...</td>\n",
       "      <td>...</td>\n",
       "    </tr>\n",
       "    <tr>\n",
       "      <th>110</th>\n",
       "      <td>Tim McGraw</td>\n",
       "      <td>2013</td>\n",
       "      <td>February</td>\n",
       "      <td>winter</td>\n",
       "      <td>M</td>\n",
       "      <td>46</td>\n",
       "      <td>Forties</td>\n",
       "      <td>Y</td>\n",
       "      <td>Country</td>\n",
       "      <td>1.0</td>\n",
       "      <td>859774.0</td>\n",
       "      <td>1.0</td>\n",
       "      <td>5236511</td>\n",
       "      <td>1</td>\n",
       "    </tr>\n",
       "    <tr>\n",
       "      <th>111</th>\n",
       "      <td>Tom Waits</td>\n",
       "      <td>2011</td>\n",
       "      <td>December</td>\n",
       "      <td>winter</td>\n",
       "      <td>M</td>\n",
       "      <td>63</td>\n",
       "      <td>Fifties or Older</td>\n",
       "      <td>N</td>\n",
       "      <td>Singer-Songwriter</td>\n",
       "      <td>1.0</td>\n",
       "      <td>202327.0</td>\n",
       "      <td>1.0</td>\n",
       "      <td>1818741</td>\n",
       "      <td>1</td>\n",
       "    </tr>\n",
       "    <tr>\n",
       "      <th>113</th>\n",
       "      <td>Widespread Panic</td>\n",
       "      <td>2011</td>\n",
       "      <td>October</td>\n",
       "      <td>fall</td>\n",
       "      <td>M</td>\n",
       "      <td>51</td>\n",
       "      <td>Fifties or Older</td>\n",
       "      <td>N</td>\n",
       "      <td>Rock/Folk/Indie</td>\n",
       "      <td>0.0</td>\n",
       "      <td>35150.0</td>\n",
       "      <td>0.0</td>\n",
       "      <td>303223</td>\n",
       "      <td>1</td>\n",
       "    </tr>\n",
       "    <tr>\n",
       "      <th>114</th>\n",
       "      <td>Wilco</td>\n",
       "      <td>2012</td>\n",
       "      <td>February</td>\n",
       "      <td>winter</td>\n",
       "      <td>M</td>\n",
       "      <td>45</td>\n",
       "      <td>Forties</td>\n",
       "      <td>Y</td>\n",
       "      <td>Rock/Folk/Indie</td>\n",
       "      <td>1.0</td>\n",
       "      <td>118222.0</td>\n",
       "      <td>1.0</td>\n",
       "      <td>569817</td>\n",
       "      <td>1</td>\n",
       "    </tr>\n",
       "    <tr>\n",
       "      <th>115</th>\n",
       "      <td>Willie Nelson</td>\n",
       "      <td>2009</td>\n",
       "      <td>November</td>\n",
       "      <td>fall</td>\n",
       "      <td>M</td>\n",
       "      <td>80</td>\n",
       "      <td>Fifties or Older</td>\n",
       "      <td>Y</td>\n",
       "      <td>Country</td>\n",
       "      <td>0.0</td>\n",
       "      <td>267839.0</td>\n",
       "      <td>1.0</td>\n",
       "      <td>2023718</td>\n",
       "      <td>1</td>\n",
       "    </tr>\n",
       "  </tbody>\n",
       "</table>\n",
       "<p>85 rows × 14 columns</p>\n",
       "</div>"
      ],
      "text/plain": [
       "               Artist  Year     Month  Season Gender  Age         Age.Group  \\\n",
       "0          Aimee Mann  2008  November    fall      F   52  Fifties or Older   \n",
       "1      Alabama Shakes  2013  February  winter      F   24          Twenties   \n",
       "3         Andrew Bird  2009   October    fall      M   39          Thirties   \n",
       "4         Arcade Fire  2007  November    fall      F   33          Thirties   \n",
       "6      Avett Brothers  2010   January  winter      M   37          Thirties   \n",
       "..                ...   ...       ...     ...    ...  ...               ...   \n",
       "110        Tim McGraw  2013  February  winter      M   46           Forties   \n",
       "111         Tom Waits  2011  December  winter      M   63  Fifties or Older   \n",
       "113  Widespread Panic  2011   October    fall      M   51  Fifties or Older   \n",
       "114             Wilco  2012  February  winter      M   45           Forties   \n",
       "115     Willie Nelson  2009  November    fall      M   80  Fifties or Older   \n",
       "\n",
       "    Grammy              Genre  BB.wk.top10  Twitter   Twitter.100k  Facebook  \\\n",
       "0        Y  Singer-Songwriter          0.0  101870.0           1.0    113576   \n",
       "1        N    Rock/Folk/Indie          1.0   73313.0           0.0    298278   \n",
       "3        N    Rock/Folk/Indie          1.0   56343.0           0.0    318313   \n",
       "4        Y    Rock/Folk/Indie          1.0  404439.0           1.0   1711685   \n",
       "6        N    Rock/Folk/Indie          1.0  125758.0           1.0    563505   \n",
       "..     ...                ...          ...       ...           ...       ...   \n",
       "110      Y            Country          1.0  859774.0           1.0   5236511   \n",
       "111      N  Singer-Songwriter          1.0  202327.0           1.0   1818741   \n",
       "113      N    Rock/Folk/Indie          0.0   35150.0           0.0    303223   \n",
       "114      Y    Rock/Folk/Indie          1.0  118222.0           1.0    569817   \n",
       "115      Y            Country          0.0  267839.0           1.0   2023718   \n",
       "\n",
       "     Facebook.100k  \n",
       "0                1  \n",
       "1                1  \n",
       "3                1  \n",
       "4                1  \n",
       "6                1  \n",
       "..             ...  \n",
       "110              1  \n",
       "111              1  \n",
       "113              1  \n",
       "114              1  \n",
       "115              1  \n",
       "\n",
       "[85 rows x 14 columns]"
      ]
     },
     "execution_count": 26,
     "metadata": {},
     "output_type": "execute_result"
    }
   ],
   "source": [
    "popularArtists"
   ]
  },
  {
   "cell_type": "code",
   "execution_count": 27,
   "metadata": {
    "colab": {
     "autoexec": {
      "startup": false,
      "wait_interval": 0
     },
     "base_uri": "https://localhost:8080/",
     "height": 104
    },
    "colab_type": "code",
    "executionInfo": {
     "elapsed": 445,
     "status": "ok",
     "timestamp": 1529428079737,
     "user": {
      "displayName": "Luis Galicia",
      "photoUrl": "https://lh3.googleusercontent.com/a/default-user=s128",
      "userId": "116873116001297431960"
     },
     "user_tz": 240
    },
    "id": "ZpkbuNkE-R6B",
    "outputId": "9b742935-f0d2-46e0-fcf2-2e1edad8b9ab"
   },
   "outputs": [
    {
     "data": {
      "text/plain": [
       "Age.Group\n",
       "Thirties            31\n",
       "Forties             24\n",
       "Fifties or Older    19\n",
       "Twenties            11\n",
       "Name: count, dtype: int64"
      ]
     },
     "execution_count": 27,
     "metadata": {},
     "output_type": "execute_result"
    }
   ],
   "source": [
    "popularityByAge = popularArtists['Age.Group'].value_counts()\n",
    "popularityByAge"
   ]
  },
  {
   "cell_type": "code",
   "execution_count": 28,
   "metadata": {
    "colab": {
     "autoexec": {
      "startup": false,
      "wait_interval": 0
     },
     "base_uri": "https://localhost:8080/",
     "height": 419
    },
    "colab_type": "code",
    "executionInfo": {
     "elapsed": 1131,
     "status": "ok",
     "timestamp": 1529428081475,
     "user": {
      "displayName": "Luis Galicia",
      "photoUrl": "https://lh3.googleusercontent.com/a/default-user=s128",
      "userId": "116873116001297431960"
     },
     "user_tz": 240
    },
    "id": "MiF12UMs_DWq",
    "outputId": "fa33832d-a5c9-4cd9-a91c-74fdadfba327"
   },
   "outputs": [
    {
     "data": {
      "text/plain": [
       "<Axes: xlabel='Age.Group'>"
      ]
     },
     "execution_count": 28,
     "metadata": {},
     "output_type": "execute_result"
    },
    {
     "data": {
      "image/png": "[encoded data removed]",
      "text/plain": [
       "<Figure size 640x480 with 1 Axes>"
      ]
     },
     "metadata": {},
     "output_type": "display_data"
    }
   ],
   "source": [
    "sns.barplot(x=popularityByAge.index, y=popularityByAge.values, hue=popularityByAge.index)"
   ]
  },
  {
   "cell_type": "code",
   "execution_count": 29,
   "metadata": {
    "colab": {
     "autoexec": {
      "startup": false,
      "wait_interval": 0
     },
     "base_uri": "https://localhost:8080/",
     "height": 104
    },
    "colab_type": "code",
    "executionInfo": {
     "elapsed": 1056,
     "status": "ok",
     "timestamp": 1529428084025,
     "user": {
      "displayName": "Luis Galicia",
      "photoUrl": "https://lh3.googleusercontent.com/a/default-user=s128",
      "userId": "116873116001297431960"
     },
     "user_tz": 240
    },
    "id": "4yxquKYNBOGP",
    "outputId": "62d743c0-1ab5-4efd-d7ce-d4b8a74109d4"
   },
   "outputs": [
    {
     "data": {
      "text/plain": [
       "Age.Group\n",
       "Thirties            0.364706\n",
       "Forties             0.282353\n",
       "Fifties or Older    0.223529\n",
       "Twenties            0.129412\n",
       "Name: count, dtype: float64"
      ]
     },
     "execution_count": 29,
     "metadata": {},
     "output_type": "execute_result"
    }
   ],
   "source": [
    "popularityByAgeProportion = popularityByAge / popularityByAge.sum()\n",
    "popularityByAgeProportion"
   ]
  },
  {
   "cell_type": "markdown",
   "metadata": {
    "colab_type": "text",
    "id": "2FQ_Az8wjAuu"
   },
   "source": [
    "## Problem Set"
   ]
  },
  {
   "cell_type": "markdown",
   "metadata": {
    "colab_type": "text",
    "id": "DbGGrokljDkN"
   },
   "source": [
    "## Question 2"
   ]
  },
  {
   "cell_type": "code",
   "execution_count": 30,
   "metadata": {
    "colab": {
     "autoexec": {
      "startup": false,
      "wait_interval": 0
     }
    },
    "colab_type": "code",
    "id": "7JGRqO5lgecV"
   },
   "outputs": [],
   "source": [
    "studentsData = {\n",
    "    'A':[5, 8, 11, 9], \n",
    "    'B':[10, 10, 5, 9], \n",
    "    'C':[9, 9, 4, 4],\n",
    "    'D':[10, 7, 4, 2],\n",
    "    'F':[6, 4, 2, 0],\n",
    "    'Level':['Freshman','Sophomore','Junior','Senior']\n",
    "}\n",
    "\n",
    "gradesDf = pd.DataFrame(studentsData)"
   ]
  },
  {
   "cell_type": "code",
   "execution_count": 31,
   "metadata": {
    "colab": {
     "autoexec": {
      "startup": false,
      "wait_interval": 0
     },
     "base_uri": "https://localhost:8080/",
     "height": 206
    },
    "colab_type": "code",
    "executionInfo": {
     "elapsed": 639,
     "status": "ok",
     "timestamp": 1529430042256,
     "user": {
      "displayName": "Luis Galicia",
      "photoUrl": "https://lh3.googleusercontent.com/a/default-user=s128",
      "userId": "116873116001297431960"
     },
     "user_tz": 240
    },
    "id": "hCCdWtz7ijFR",
    "outputId": "3edd2d50-c412-42ef-f4bc-6e38ddfb02d6"
   },
   "outputs": [
    {
     "data": {
      "text/html": [
       "<div>\n",
       "<style scoped>\n",
       "    .dataframe tbody tr th:only-of-type {\n",
       "        vertical-align: middle;\n",
       "    }\n",
       "\n",
       "    .dataframe tbody tr th {\n",
       "        vertical-align: top;\n",
       "    }\n",
       "\n",
       "    .dataframe thead th {\n",
       "        text-align: right;\n",
       "    }\n",
       "</style>\n",
       "<table border=\"1\" class=\"dataframe\">\n",
       "  <thead>\n",
       "    <tr style=\"text-align: right;\">\n",
       "      <th></th>\n",
       "      <th>A</th>\n",
       "      <th>B</th>\n",
       "      <th>C</th>\n",
       "      <th>D</th>\n",
       "      <th>F</th>\n",
       "    </tr>\n",
       "    <tr>\n",
       "      <th>Level</th>\n",
       "      <th></th>\n",
       "      <th></th>\n",
       "      <th></th>\n",
       "      <th></th>\n",
       "      <th></th>\n",
       "    </tr>\n",
       "  </thead>\n",
       "  <tbody>\n",
       "    <tr>\n",
       "      <th>Freshman</th>\n",
       "      <td>5</td>\n",
       "      <td>10</td>\n",
       "      <td>9</td>\n",
       "      <td>10</td>\n",
       "      <td>6</td>\n",
       "    </tr>\n",
       "    <tr>\n",
       "      <th>Sophomore</th>\n",
       "      <td>8</td>\n",
       "      <td>10</td>\n",
       "      <td>9</td>\n",
       "      <td>7</td>\n",
       "      <td>4</td>\n",
       "    </tr>\n",
       "    <tr>\n",
       "      <th>Junior</th>\n",
       "      <td>11</td>\n",
       "      <td>5</td>\n",
       "      <td>4</td>\n",
       "      <td>4</td>\n",
       "      <td>2</td>\n",
       "    </tr>\n",
       "    <tr>\n",
       "      <th>Senior</th>\n",
       "      <td>9</td>\n",
       "      <td>9</td>\n",
       "      <td>4</td>\n",
       "      <td>2</td>\n",
       "      <td>0</td>\n",
       "    </tr>\n",
       "  </tbody>\n",
       "</table>\n",
       "</div>"
      ],
      "text/plain": [
       "            A   B  C   D  F\n",
       "Level                      \n",
       "Freshman    5  10  9  10  6\n",
       "Sophomore   8  10  9   7  4\n",
       "Junior     11   5  4   4  2\n",
       "Senior      9   9  4   2  0"
      ]
     },
     "execution_count": 31,
     "metadata": {},
     "output_type": "execute_result"
    }
   ],
   "source": [
    "gradesDf = gradesDf.set_index('Level')\n",
    "gradesDf"
   ]
  },
  {
   "cell_type": "markdown",
   "metadata": {
    "colab_type": "text",
    "id": "BhJ6btL9jOTN"
   },
   "source": [
    "### What proportion of the students received an A?"
   ]
  },
  {
   "cell_type": "code",
   "execution_count": 32,
   "metadata": {
    "colab": {
     "autoexec": {
      "startup": false,
      "wait_interval": 0
     },
     "base_uri": "https://localhost:8080/",
     "height": 34
    },
    "colab_type": "code",
    "executionInfo": {
     "elapsed": 552,
     "status": "ok",
     "timestamp": 1529430067532,
     "user": {
      "displayName": "Luis Galicia",
      "photoUrl": "https://lh3.googleusercontent.com/a/default-user=s128",
      "userId": "116873116001297431960"
     },
     "user_tz": 240
    },
    "id": "LB7od_Mhi5-O",
    "outputId": "021ad8be-8e7a-4963-baf5-5d1c29c8c365"
   },
   "outputs": [
    {
     "data": {
      "text/plain": [
       "0.2578125"
      ]
     },
     "execution_count": 32,
     "metadata": {},
     "output_type": "execute_result"
    }
   ],
   "source": [
    " gradesDf['A'].sum() / gradesDf.sum(numeric_only=True).sum()"
   ]
  },
  {
   "cell_type": "markdown",
   "metadata": {
    "colab_type": "text",
    "id": "diPXc27wkLi3"
   },
   "source": [
    "### What proportion of the students where upperclassmen (junior and seniors)?"
   ]
  },
  {
   "cell_type": "code",
   "execution_count": 33,
   "metadata": {
    "colab": {
     "autoexec": {
      "startup": false,
      "wait_interval": 0
     },
     "base_uri": "https://localhost:8080/",
     "height": 34
    },
    "colab_type": "code",
    "executionInfo": {
     "elapsed": 471,
     "status": "ok",
     "timestamp": 1529431047041,
     "user": {
      "displayName": "Luis Galicia",
      "photoUrl": "https://lh3.googleusercontent.com/a/default-user=s128",
      "userId": "116873116001297431960"
     },
     "user_tz": 240
    },
    "id": "OWF8sh4xkTJB",
    "outputId": "f7903632-9194-4091-b3d0-a9fe2a459177"
   },
   "outputs": [
    {
     "name": "stdout",
     "output_type": "stream",
     "text": [
      "0.390625\n"
     ]
    }
   ],
   "source": [
    "numJuniors = gradesDf.loc['Junior'].sum()\n",
    "numSeniors = gradesDf.loc['Senior'].sum()\n",
    "numAllLevels = gradesDf.sum().sum()\n",
    "print( (numJuniors + numSeniors) / numAllLevels )"
   ]
  },
  {
   "cell_type": "markdown",
   "metadata": {
    "colab_type": "text",
    "id": "nne4SGsHHhMs"
   },
   "source": [
    "### What is the probability that a freshman received a grade of F?"
   ]
  },
  {
   "cell_type": "code",
   "execution_count": 34,
   "metadata": {
    "colab": {
     "autoexec": {
      "startup": false,
      "wait_interval": 0
     },
     "base_uri": "https://localhost:8080/",
     "height": 34
    },
    "colab_type": "code",
    "executionInfo": {
     "elapsed": 568,
     "status": "ok",
     "timestamp": 1529430352374,
     "user": {
      "displayName": "Luis Galicia",
      "photoUrl": "https://lh3.googleusercontent.com/a/default-user=s128",
      "userId": "116873116001297431960"
     },
     "user_tz": 240
    },
    "id": "CbFa0AHgGMx5",
    "outputId": "949d08fd-0141-4547-a0ce-bb51237b0c44"
   },
   "outputs": [
    {
     "data": {
      "text/plain": [
       "0.15"
      ]
     },
     "execution_count": 34,
     "metadata": {},
     "output_type": "execute_result"
    }
   ],
   "source": [
    "gradesDf.loc['Freshman']['F'] / gradesDf.loc['Freshman'].sum()"
   ]
  },
  {
   "cell_type": "markdown",
   "metadata": {
    "colab_type": "text",
    "id": "LsPV4eflKMZj"
   },
   "source": [
    "### What is the probability that a randomly selected student from the class would be a sophomore that received a grade of B? "
   ]
  },
  {
   "cell_type": "code",
   "execution_count": 35,
   "metadata": {
    "colab": {
     "autoexec": {
      "startup": false,
      "wait_interval": 0
     },
     "base_uri": "https://localhost:8080/",
     "height": 34
    },
    "colab_type": "code",
    "executionInfo": {
     "elapsed": 506,
     "status": "ok",
     "timestamp": 1529430561617,
     "user": {
      "displayName": "Luis Galicia",
      "photoUrl": "https://lh3.googleusercontent.com/a/default-user=s128",
      "userId": "116873116001297431960"
     },
     "user_tz": 240
    },
    "id": "JSzoWnQPKLUu",
    "outputId": "b61f4552-ebac-47cf-9550-d4bbc7c30478"
   },
   "outputs": [
    {
     "data": {
      "text/plain": [
       "0.078125"
      ]
     },
     "execution_count": 35,
     "metadata": {},
     "output_type": "execute_result"
    }
   ],
   "source": [
    "gradesDf.loc['Sophomore']['B'] / numAllLevels"
   ]
  },
  {
   "cell_type": "markdown",
   "metadata": {
    "colab_type": "text",
    "id": "6xOh4JR3LYcX"
   },
   "source": [
    "### What proportion of juniors passed the course with a grade of D or better? "
   ]
  },
  {
   "cell_type": "code",
   "execution_count": 36,
   "metadata": {
    "colab": {
     "autoexec": {
      "startup": false,
      "wait_interval": 0
     },
     "base_uri": "https://localhost:8080/",
     "height": 34
    },
    "colab_type": "code",
    "executionInfo": {
     "elapsed": 590,
     "status": "ok",
     "timestamp": 1529431135778,
     "user": {
      "displayName": "Luis Galicia",
      "photoUrl": "https://lh3.googleusercontent.com/a/default-user=s128",
      "userId": "116873116001297431960"
     },
     "user_tz": 240
    },
    "id": "ABbQJhmKLbs2",
    "outputId": "78c18f27-1e69-4859-c9e4-1e8db66b2f74"
   },
   "outputs": [
    {
     "data": {
      "text/plain": [
       "0.9230769230769231"
      ]
     },
     "execution_count": 36,
     "metadata": {},
     "output_type": "execute_result"
    }
   ],
   "source": [
    "gradesDf.loc['Junior'].drop('F').sum() / numJuniors"
   ]
  },
  {
   "cell_type": "markdown",
   "metadata": {
    "colab_type": "text",
    "id": "btTwKga3M06-"
   },
   "source": [
    "### What is the probability that a randomly selected student from this class would be a senior?"
   ]
  },
  {
   "cell_type": "code",
   "execution_count": 37,
   "metadata": {
    "colab": {
     "autoexec": {
      "startup": false,
      "wait_interval": 0
     },
     "base_uri": "https://localhost:8080/",
     "height": 34
    },
    "colab_type": "code",
    "executionInfo": {
     "elapsed": 1295,
     "status": "ok",
     "timestamp": 1529431169057,
     "user": {
      "displayName": "Luis Galicia",
      "photoUrl": "https://lh3.googleusercontent.com/a/default-user=s128",
      "userId": "116873116001297431960"
     },
     "user_tz": 240
    },
    "id": "ir60Y16nM1xM",
    "outputId": "249362e0-40d1-4ed4-eb71-3193b3b40a8b"
   },
   "outputs": [
    {
     "data": {
      "text/plain": [
       "0.1875"
      ]
     },
     "execution_count": 37,
     "metadata": {},
     "output_type": "execute_result"
    }
   ],
   "source": [
    "numSeniors / numAllLevels"
   ]
  },
  {
   "cell_type": "markdown",
   "metadata": {
    "colab_type": "text",
    "id": "9o33KmHWNBLL"
   },
   "source": [
    "###  If a student received a grade of D in the class, what is the probability that the student was a senior?"
   ]
  },
  {
   "cell_type": "code",
   "execution_count": 38,
   "metadata": {
    "colab": {
     "autoexec": {
      "startup": false,
      "wait_interval": 0
     },
     "base_uri": "https://localhost:8080/",
     "height": 34
    },
    "colab_type": "code",
    "executionInfo": {
     "elapsed": 709,
     "status": "ok",
     "timestamp": 1529431358210,
     "user": {
      "displayName": "Luis Galicia",
      "photoUrl": "https://lh3.googleusercontent.com/a/default-user=s128",
      "userId": "116873116001297431960"
     },
     "user_tz": 240
    },
    "id": "lboTiWnhNCd9",
    "outputId": "7f03e95d-d33f-4b91-eb43-2920a4e5c146"
   },
   "outputs": [
    {
     "data": {
      "text/plain": [
       "0.08695652173913043"
      ]
     },
     "execution_count": 38,
     "metadata": {},
     "output_type": "execute_result"
    }
   ],
   "source": [
    "gradesDf.loc['Senior','D'] / gradesDf['D'].sum()"
   ]
  }
 ],
 "metadata": {
  "colab": {
   "default_view": {},
   "name": "lab3.ipynb",
   "provenance": [],
   "version": "0.3.2",
   "views": {}
  },
  "kernelspec": {
   "display_name": "Python 3 (ipykernel)",
   "language": "python",
   "name": "python3"
  },
  "language_info": {
   "codemirror_mode": {
    "name": "ipython",
    "version": 3
   },
   "file_extension": ".py",
   "mimetype": "text/x-python",
   "name": "python",
   "nbconvert_exporter": "python",
   "pygments_lexer": "ipython3",
   "version": "3.10.8"
  }
 },
 "nbformat": 4,
 "nbformat_minor": 4
}
